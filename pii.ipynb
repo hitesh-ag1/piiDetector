{
 "cells": [
  {
   "cell_type": "code",
   "execution_count": 9,
   "id": "a97c7df7",
   "metadata": {},
   "outputs": [],
   "source": [
    "def getFakeData(tp):\n",
    "    fake = Faker()\n",
    "    if(tp=='NAME'):\n",
    "        synth = fake.name()\n",
    "    elif(tp=='PHONE'):\n",
    "        synth = fake.phone_number()\n",
    "    elif(tp=='EMAIL'):\n",
    "        synth = fake.email()\n",
    "    elif tp == \"ADDRESS\":\n",
    "        synth = fake.address()\n",
    "    elif tp == \"USERNAME\":\n",
    "        synth = fake.user_name()\n",
    "    elif tp == \"PASSWORD\":\n",
    "        synth = fake.password()\n",
    "    elif tp == \"DATE_TIME\":\n",
    "        synth = fake.date_time()\n",
    "    elif tp == \"CREDIT_DEBIT_NUMBER\":\n",
    "        synth = fake.credit_card_number()\n",
    "    else:\n",
    "        synth=\"UNKNOWN ENTITY TYPE\"\n",
    "    return synth\n",
    "\n",
    "def detectReplacePII(text):\n",
    "    client = boto3.client('comprehend')\n",
    "    request = client.detect_pii_entities(Text=text,LanguageCode='en')\n",
    "    print(\"Detected PII\")\n",
    "    pii = {}\n",
    "    for i in request['Entities']:\n",
    "        tp = i['Type']\n",
    "        if(tp!='AGE'):\n",
    "            word = text[i['BeginOffset']:i['EndOffset']]\n",
    "            if(tp in pii.keys()):\n",
    "                if(word in pii[tp]):\n",
    "                    pass\n",
    "                else:\n",
    "                    synth = getFakeData(tp)\n",
    "                    pii[tp][word]=synth\n",
    "            else:\n",
    "                synth = getFakeData(tp)\n",
    "                pii[tp] = {word:synth}\n",
    "    print(\"Generated fake entities\")\n",
    "    for ent in pii.values():\n",
    "        for key, val in ent.items():\n",
    "            text = text.replace(key, val)\n",
    "    print(\"Replacing PII\")\n",
    "    return [text, pii]"
   ]
  },
  {
   "cell_type": "code",
   "execution_count": 10,
   "id": "2b4f48b1",
   "metadata": {},
   "outputs": [],
   "source": [
    "import boto3\n",
    "import pandas as pd\n",
    "import numpy as np\n",
    "from faker import Faker"
   ]
  },
  {
   "cell_type": "code",
   "execution_count": 11,
   "id": "7b7e2d8b",
   "metadata": {},
   "outputs": [
    {
     "name": "stdout",
     "output_type": "stream",
     "text": [
      "Detected PII\n",
      "Generated fake entities\n",
      "Replacing PII\n"
     ]
    },
    {
     "data": {
      "text/plain": [
       "['Sarah Frazier is working for Phillip Shah where he is building privacy preserving AI models. Sarah Frazier is currently 22. His team members are Shawn Hutchinson, Crystal Sawyer and Billy Lewis. Please contact Shawn Hutchinson for further details on 091-697-3287x418 or stephaniewebster@example.com. Their office address is 454 Theodore Meadows\\nSouth Joel, WA 27673.',\n",
       " {'NAME': {'Hitesh': 'Sarah Frazier',\n",
       "   'Pradeep': 'Phillip Shah',\n",
       "   'Nishanth': 'Shawn Hutchinson',\n",
       "   'Suman': 'Crystal Sawyer',\n",
       "   'Nikhil': 'Billy Lewis'},\n",
       "  'PHONE': {'9829765323': '091-697-3287x418'},\n",
       "  'EMAIL': {'nishant@diagnokare.com': 'stephaniewebster@example.com'},\n",
       "  'ADDRESS': {'B-98, Koramangala, Bangalore': '454 Theodore Meadows\\nSouth Joel, WA 27673'}}]"
      ]
     },
     "execution_count": 11,
     "metadata": {},
     "output_type": "execute_result"
    }
   ],
   "source": [
    "detectReplacePII(text)"
   ]
  },
  {
   "cell_type": "code",
   "execution_count": 2,
   "id": "6ca7d358",
   "metadata": {},
   "outputs": [],
   "source": [
    "fake = Faker()\n",
    "client = boto3.client('comprehend')"
   ]
  },
  {
   "cell_type": "code",
   "execution_count": 4,
   "id": "7259fbfb",
   "metadata": {},
   "outputs": [],
   "source": [
    "text = 'Hitesh is working for Pradeep where he is building privacy preserving AI models. Hitesh is currently 22. His team members are Nishanth, Suman and Nikhil. Please contact Nishanth for further details on 9829765323 or nishant@diagnokare.com. Their office address is B-98, Koramangala, Bangalore.'"
   ]
  },
  {
   "cell_type": "code",
   "execution_count": 18,
   "id": "dee41e45",
   "metadata": {},
   "outputs": [],
   "source": [
    "request = client.detect_pii_entities(Text=text,LanguageCode='en')"
   ]
  },
  {
   "cell_type": "code",
   "execution_count": 19,
   "id": "639a47ca",
   "metadata": {},
   "outputs": [],
   "source": [
    "def getFakeData(tp):\n",
    "    if(tp=='NAME'):\n",
    "        synth = fake.name()\n",
    "    elif(tp=='PHONE'):\n",
    "        synth = fake.phone_number()\n",
    "    elif(tp=='EMAIL'):\n",
    "        synth = fake.email()\n",
    "    elif data == \"ADDRESS\":\n",
    "        synth = fake.address()\n",
    "    elif data == \"USERNAME\":\n",
    "        synth = fake.user_name()\n",
    "    elif data == \"PASSWORD\":\n",
    "        synth = fake.password()\n",
    "    elif data == \"DATE_TIME\":\n",
    "        synth = fake.date_time()\n",
    "    elif data == \"CREDIT_DEBIT_NUMBER\":\n",
    "        synth = fake.credit_card_number()\n",
    "    else:\n",
    "        synth=\"UNKNOWN ENTITY TYPE\"\n",
    "    return synth"
   ]
  },
  {
   "cell_type": "code",
   "execution_count": 20,
   "id": "4dc8ba67",
   "metadata": {},
   "outputs": [],
   "source": [
    "pii = {}\n",
    "for i in request['Entities']:\n",
    "    tp = i['Type']\n",
    "    if(tp!='AGE'):\n",
    "        word = text[i['BeginOffset']:i['EndOffset']]\n",
    "        if(tp in pii.keys()):\n",
    "            if(word in pii[tp]):\n",
    "                pass\n",
    "            else:\n",
    "                synth = getFakeData(tp)\n",
    "                pii[tp][word]=synth\n",
    "        else:\n",
    "            synth = getFakeData(tp)\n",
    "            pii[tp] = {word:synth}"
   ]
  },
  {
   "cell_type": "code",
   "execution_count": 21,
   "id": "519273f9",
   "metadata": {},
   "outputs": [
    {
     "data": {
      "text/plain": [
       "{'NAME': {'Hitesh': 'Vanessa Perkins',\n",
       "  'Pradeep': 'Jacob Cook',\n",
       "  'Nishanth': 'Eric Brown',\n",
       "  'Suman': 'Marissa Spencer',\n",
       "  'Nikhil': 'Daniel Bradley'},\n",
       " 'PHONE': {'9829765323': '9469483725'},\n",
       " 'EMAIL': {'nishant@diagnokare.com': 'cookronald@example.com'}}"
      ]
     },
     "execution_count": 21,
     "metadata": {},
     "output_type": "execute_result"
    }
   ],
   "source": [
    "pii"
   ]
  },
  {
   "cell_type": "code",
   "execution_count": 22,
   "id": "9f875061",
   "metadata": {},
   "outputs": [],
   "source": [
    "for ent in pii.values():\n",
    "    for key, val in ent.items():\n",
    "#         print(key, val)\n",
    "        text = text.replace(key, val)"
   ]
  },
  {
   "cell_type": "code",
   "execution_count": 23,
   "id": "a8720b9a",
   "metadata": {},
   "outputs": [
    {
     "data": {
      "text/plain": [
       "'Vanessa Perkins is working for Jacob Cook where he is building privacy preserving AI models. Vanessa Perkins is currently 22. His team members are Eric Brown, Marissa Spencer and Daniel Bradley. Please contact Eric Brown for further details on 9469483725 or cookronald@example.com.'"
      ]
     },
     "execution_count": 23,
     "metadata": {},
     "output_type": "execute_result"
    }
   ],
   "source": [
    "text"
   ]
  },
  {
   "cell_type": "code",
   "execution_count": null,
   "id": "12718982",
   "metadata": {},
   "outputs": [],
   "source": []
  }
 ],
 "metadata": {
  "kernelspec": {
   "display_name": "Python 3 (ipykernel)",
   "language": "python",
   "name": "python3"
  },
  "language_info": {
   "codemirror_mode": {
    "name": "ipython",
    "version": 3
   },
   "file_extension": ".py",
   "mimetype": "text/x-python",
   "name": "python",
   "nbconvert_exporter": "python",
   "pygments_lexer": "ipython3",
   "version": "3.9.12"
  }
 },
 "nbformat": 4,
 "nbformat_minor": 5
}
