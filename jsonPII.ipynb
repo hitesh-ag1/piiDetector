{
 "cells": [
  {
   "cell_type": "code",
   "execution_count": 39,
   "id": "17203e6e",
   "metadata": {},
   "outputs": [],
   "source": [
    "import pandas as pd\n",
    "from PII_removal_unstructured_text import detectReplacePII\n",
    "from tqdm import tqdm\n",
    "\n",
    "def jsonPIIRemover(data, fieldName):\n",
    "    df = pd.DataFrame.from_records(data)\n",
    "    new_data = []\n",
    "\n",
    "    for i in tqdm(df[fieldName]):\n",
    "        new_data.append(detectReplacePII(i))\n",
    "\n",
    "    col = []\n",
    "    for i in new_data:\n",
    "        col.append(i[0])\n",
    "\n",
    "    df[fieldName] = col\n",
    "    df = df.to_dict(orient='records')\n",
    "    return df"
   ]
  }
 ],
 "metadata": {
  "kernelspec": {
   "display_name": "Python 3 (ipykernel)",
   "language": "python",
   "name": "python3"
  },
  "language_info": {
   "codemirror_mode": {
    "name": "ipython",
    "version": 3
   },
   "file_extension": ".py",
   "mimetype": "text/x-python",
   "name": "python",
   "nbconvert_exporter": "python",
   "pygments_lexer": "ipython3",
   "version": "3.9.12"
  }
 },
 "nbformat": 4,
 "nbformat_minor": 5
}
