{
 "cells": [
  {
   "cell_type": "code",
   "execution_count": 1,
   "id": "836c4c92",
   "metadata": {},
   "outputs": [],
   "source": [
    "from PII_data_processor import find_piis_based_on_column_name\n",
    "\n",
    "def piiColumns(data):\n",
    "    dataset = pd.DataFrame.from_records(data)\n",
    "    label_dict = False\n",
    "    value_label_dict = False\n",
    "    columns_still_to_check = dataset.columns\n",
    "    pii_candidates = find_piis_based_on_column_name(dataset, label_dict, value_label_dict, columns_still_to_check, 1)\n",
    "    return list(pii_candidates.keys())"
   ]
  },
  {
   "cell_type": "code",
   "execution_count": 2,
   "id": "9893d65f",
   "metadata": {},
   "outputs": [],
   "source": [
    "import json\n",
    "import pandas as pd\n",
    "with open('../farmers_bihar.json') as f:\n",
    "    data = json.load(f)"
   ]
  },
  {
   "cell_type": "code",
   "execution_count": 3,
   "id": "c6e9c260",
   "metadata": {},
   "outputs": [
    {
     "data": {
      "text/plain": [
       "[]"
      ]
     },
     "execution_count": 3,
     "metadata": {},
     "output_type": "execute_result"
    }
   ],
   "source": [
    "piiColumns(data)"
   ]
  },
  {
   "cell_type": "code",
   "execution_count": null,
   "id": "27ae2429",
   "metadata": {},
   "outputs": [],
   "source": []
  }
 ],
 "metadata": {
  "kernelspec": {
   "display_name": "pii",
   "language": "python",
   "name": "pii"
  },
  "language_info": {
   "codemirror_mode": {
    "name": "ipython",
    "version": 3
   },
   "file_extension": ".py",
   "mimetype": "text/x-python",
   "name": "python",
   "nbconvert_exporter": "python",
   "pygments_lexer": "ipython3",
   "version": "3.9.12"
  }
 },
 "nbformat": 4,
 "nbformat_minor": 5
}
